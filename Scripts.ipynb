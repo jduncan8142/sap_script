{
 "cells": [
  {
   "cell_type": "code",
   "execution_count": null,
   "metadata": {},
   "outputs": [],
   "source": [
    "from SapScript.Core.sap import SAP\n",
    "from SapScript.Utils.systems import Systems\n",
    "from SapScript.Gui.elements import Table\n",
    "\n",
    "my_systems = Systems()\n",
    "my_sid = my_systems.available_systems()[0]\n",
    "sap = SAP(sid=my_sid)\n",
    "\n",
    "sap.start_transaction(value=\"/SEEAG/CC_MONITOR\")\n",
    "sap.send_key(key=\"F8\")\n",
    "table = Table(element=sap.get_element(\"/app/con[0]/ses[0]/wnd[0]/shellcont/shell/shellcont/shell/shellcont/shell\").value)\n",
    "table.get_row_data(0)"
   ]
  }
 ],
 "metadata": {
  "kernelspec": {
   "display_name": "sap_script-FYBN-RsX",
   "language": "python",
   "name": "python3"
  },
  "language_info": {
   "codemirror_mode": {
    "name": "ipython",
    "version": 3
   },
   "file_extension": ".py",
   "mimetype": "text/x-python",
   "name": "python",
   "nbconvert_exporter": "python",
   "pygments_lexer": "ipython3",
   "version": "3.13.2"
  }
 },
 "nbformat": 4,
 "nbformat_minor": 2
}
